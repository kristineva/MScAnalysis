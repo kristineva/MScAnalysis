{
 "cells": [
  {
   "cell_type": "markdown",
   "metadata": {},
   "source": [
    "# MSc Project - Machine Learning"
   ]
  },
  {
   "cell_type": "code",
   "execution_count": null,
   "metadata": {},
   "outputs": [],
   "source": [
    "import numpy as np\n",
    "import seaborn as sns\n",
    "import pandas as pd\n",
    "import matplotlib.pyplot as plt\n",
    "from sklearn.preprocessing import StandardScaler\n",
    "from sklearn.linear_model import LogisticRegression\n",
    "from sklearn.metrics import accuracy_score, classification_report, confusion_matrix, make_scorer, f1_score, precision_score, recall_score\n",
    "from sklearn.model_selection import GridSearchCV, train_test_split\n",
    "from sklearn.pipeline import Pipeline\n",
    "from sklearn.ensemble import RandomForestClassifier\n",
    "import xgboost as xgb\n",
    "from sklearn.tree import DecisionTreeClassifier\n",
    "from sklearn.utils.class_weight import compute_class_weight\n",
    "from imblearn.under_sampling import RandomUnderSampler\n",
    "import warnings\n",
    "warnings.simplefilter('ignore')"
   ]
  },
  {
   "cell_type": "markdown",
   "metadata": {},
   "source": [
    "## Functions"
   ]
  },
  {
   "cell_type": "code",
   "execution_count": 142,
   "metadata": {},
   "outputs": [],
   "source": [
    "def evaluate(y_test, y_pred):\n",
    "    accuracy = accuracy_score(y_test, y_pred)\n",
    "    print(f\"Accuracy: {accuracy:.2f}\")\n",
    "    \n",
    "    micro_f1 = f1_score(y_test, y_pred, average='micro')\n",
    "    print(f\"Micro F1 Score: {micro_f1:.2f}\")\n",
    "\n",
    "    total_precision = precision_score(y_test, y_pred, average='micro')\n",
    "    total_recall = recall_score(y_test, y_pred, average='micro')\n",
    "    print(f\"Total Precision: {total_precision:.2f}\")\n",
    "    print(f\"Total Recall: {total_recall:.2f}\")\n",
    "\n",
    "    conf_matrix = confusion_matrix(y_test, y_pred)\n",
    "    print(conf_matrix)\n",
    "\n",
    "    report = classification_report(y_test, y_pred, output_dict=True)\n",
    "\n",
    "    report['accuracy'] = accuracy_score(y_test, y_pred)\n",
    "    report['micro F1-score'] = f1_score(y_test, y_pred, average='micro')\n",
    "\n",
    "    for key, value in report.items():\n",
    "        if isinstance(value, dict): \n",
    "            print(f\"{key}: Precision={value['precision']:.2f}, Recall={value['recall']:.2f}, F1-Score={value['f1-score']:.2f}\")\n",
    "        else:  \n",
    "            print(f\"{key}: {value:.2f}\")\n",
    "    \n",
    "    return conf_matrix\n"
   ]
  },
  {
   "cell_type": "code",
   "execution_count": 143,
   "metadata": {},
   "outputs": [],
   "source": [
    "def plot_conf(conf_matrix):\n",
    "    plt.figure(figsize=(5, 4))\n",
    "    sns.heatmap(conf_matrix, annot=True, fmt=\"d\", cmap=\"Blues\", xticklabels=['No', 'Yes'], yticklabels=['No', 'Yes'])\n",
    "    plt.xlabel(\"Predicted\")\n",
    "    plt.ylabel(\"Actual\")\n",
    "    plt.title(\"Confusion Matrix\")\n",
    "    plt.show()"
   ]
  },
  {
   "cell_type": "markdown",
   "metadata": {},
   "source": [
    "## Get Data"
   ]
  },
  {
   "cell_type": "code",
   "execution_count": 144,
   "metadata": {},
   "outputs": [],
   "source": [
    "data = pd.read_pickle(\"processed_data.pkl\")"
   ]
  },
  {
   "cell_type": "code",
   "execution_count": 145,
   "metadata": {},
   "outputs": [],
   "source": [
    "df = data.copy()"
   ]
  },
  {
   "cell_type": "code",
   "execution_count": 146,
   "metadata": {},
   "outputs": [],
   "source": [
    "df = df[[\n",
    "    'Gender', \n",
    "    'EducationLevel', \n",
    "    'FemaleParentEducationGroup',\n",
    "    'FemaleParentEducationLevel', 'MaleParentEducationGroup',\n",
    "    'MaleParentEducationLevel', \n",
    "    'Label'\n",
    "    ]].copy()"
   ]
  },
  {
   "cell_type": "markdown",
   "metadata": {},
   "source": [
    "## Fixing Data for Models"
   ]
  },
  {
   "cell_type": "code",
   "execution_count": 147,
   "metadata": {},
   "outputs": [],
   "source": [
    "df[\"Gender\"] = df[\"Gender\"].map({'Woman': 0, 'Man': 1})\n",
    "\n",
    "\n",
    "education_level = {'Primary': 0, 'Secondary': 1, 'Bachelors': 2, 'Masters': 3, 'Doctoral': 4, 'Unknown': -1, None: -1}\n",
    "df[\"EducationLevel\"] = df[\"EducationLevel\"].map(education_level)\n",
    "df[\"FemaleParentEducationLevel\"] = df[\"FemaleParentEducationLevel\"].map(education_level)\n",
    "df[\"MaleParentEducationLevel\"] = df[\"MaleParentEducationLevel\"].map(education_level)\n",
    "\n",
    "education_group = {\n",
    "    'Business and economics': 0, 'Engineering': 1, 'Technology': 2, 'Health': 3, \n",
    "    'Social sciences': 4, 'Natural sciences': 5, 'Arts and humanities': 6, 'Education': 7,\n",
    "    'Other': -1, None: -1\n",
    "    }\n",
    "\n",
    "df[\"FemaleParentEducationGroup\"] = df[\"FemaleParentEducationGroup\"].map(education_group)\n",
    "df[\"MaleParentEducationGroup\"] = df[\"MaleParentEducationGroup\"].map(education_group)"
   ]
  },
  {
   "cell_type": "code",
   "execution_count": 148,
   "metadata": {},
   "outputs": [],
   "source": [
    "target_col = 'Label'"
   ]
  },
  {
   "cell_type": "code",
   "execution_count": 149,
   "metadata": {},
   "outputs": [],
   "source": [
    "feature_names = df.drop(columns=[target_col]).columns.tolist()"
   ]
  },
  {
   "cell_type": "code",
   "execution_count": 150,
   "metadata": {},
   "outputs": [],
   "source": [
    "X = df.drop(columns=[target_col])\n",
    "y = df[target_col]\n",
    "\n",
    "X_train, X_test, y_train, y_test = train_test_split(X, y, test_size=0.2, random_state=42, stratify=y)\n"
   ]
  },
  {
   "cell_type": "markdown",
   "metadata": {},
   "source": [
    "## Logistic Regression"
   ]
  },
  {
   "cell_type": "code",
   "execution_count": null,
   "metadata": {},
   "outputs": [
    {
     "name": "stdout",
     "output_type": "stream",
     "text": [
      "Best Parameters: {'logisticregression__C': 100, 'logisticregression__penalty': 'l2', 'logisticregression__solver': 'lbfgs'}\n",
      "Best Accuracy: 0.3\n",
      "Best Micro F1 Score: 0.3\n"
     ]
    }
   ],
   "source": [
    "# Define parameter grid\n",
    "param_grid = {\n",
    "    'logisticregression__C': [0.001, 0.01, 0.1, 1, 10, 100],\n",
    "    'logisticregression__solver': ['liblinear', 'lbfgs'],\n",
    "    'logisticregression__penalty': ['l1', 'l2'],\n",
    "}\n",
    "\n",
    "scaler = StandardScaler()\n",
    "\n",
    "# Under sampling training and testing data to prevent majority class voting only\n",
    "rus = RandomUnderSampler(random_state=42)\n",
    "X_resampled, y_resampled = rus.fit_resample(X_train, y_train)\n",
    "\n",
    "log_reg = LogisticRegression(class_weight=\"balanced\", max_iter=500)\n",
    "\n",
    "# Create pipeline (scaling + logistic regression)\n",
    "pipeline = Pipeline([\n",
    "    ('scaler', scaler),\n",
    "    ('logisticregression', log_reg)\n",
    "])\n",
    "\n",
    "# Define scoring metrics: Accuracy and Micro F1\n",
    "scoring = {\n",
    "    'accuracy': make_scorer(accuracy_score),\n",
    "    'f1_micro': make_scorer(f1_score, average='micro')\n",
    "}\n",
    "\n",
    "# GridSearch\n",
    "grid_search = GridSearchCV( pipeline, param_grid, cv=5, scoring=scoring, refit='f1_micro', n_jobs=-1)\n",
    "\n",
    "# Fit grid search\n",
    "grid_search.fit(X_resampled, y_resampled)\n",
    "\n",
    "# Best parameters found\n",
    "print(\"Best Parameters:\", grid_search.best_params_)\n",
    "print(\"Best Accuracy:\", grid_search.cv_results_['mean_test_accuracy'][grid_search.best_index_])\n",
    "print(\"Best Micro F1 Score:\", grid_search.best_score_)  # Micro F1 score\n",
    "\n",
    "best_lr = grid_search.best_estimator_"
   ]
  },
  {
   "cell_type": "code",
   "execution_count": 152,
   "metadata": {},
   "outputs": [
    {
     "name": "stdout",
     "output_type": "stream",
     "text": [
      "Accuracy: 0.32\n",
      "Micro F1 Score: 0.32\n",
      "Total Precision: 0.32\n",
      "Total Recall: 0.32\n",
      "[[18 27  4  8]\n",
      " [ 1  3  1  0]\n",
      " [ 2  3  1  2]\n",
      " [ 0  0  0  1]]\n",
      "0: Precision=0.86, Recall=0.32, F1-Score=0.46\n",
      "1: Precision=0.09, Recall=0.60, F1-Score=0.16\n",
      "2: Precision=0.17, Recall=0.12, F1-Score=0.14\n",
      "3: Precision=0.09, Recall=1.00, F1-Score=0.17\n",
      "accuracy: 0.32\n",
      "macro avg: Precision=0.30, Recall=0.51, F1-Score=0.23\n",
      "weighted avg: Precision=0.71, Recall=0.32, F1-Score=0.40\n",
      "micro F1-score: 0.32\n"
     ]
    }
   ],
   "source": [
    "y_pred_lr = best_lr.predict(X_test) \n",
    "conf_matrix_lr = evaluate(y_test, y_pred_lr)"
   ]
  },
  {
   "cell_type": "code",
   "execution_count": 153,
   "metadata": {},
   "outputs": [
    {
     "data": {
      "image/png": "[encoded data removed]",
      "text/plain": [
       "<Figure size 500x400 with 2 Axes>"
      ]
     },
     "metadata": {},
     "output_type": "display_data"
    }
   ],
   "source": [
    "plot_conf(conf_matrix_lr)"
   ]
  },
  {
   "cell_type": "markdown",
   "metadata": {},
   "source": [
    "**Feature importances**"
   ]
  },
  {
   "cell_type": "code",
   "execution_count": 154,
   "metadata": {},
   "outputs": [
    {
     "name": "stdout",
     "output_type": "stream",
     "text": [
      "FemaleParentEducationLevel: 0.9065\n",
      "MaleParentEducationLevel: 0.6270\n",
      "MaleParentEducationGroup: 0.5637\n",
      "FemaleParentEducationGroup: 0.5443\n",
      "EducationLevel: 0.4344\n",
      "Gender: 0.3729\n"
     ]
    }
   ],
   "source": [
    "X_train = pd.DataFrame(X_train, columns=feature_names)\n",
    "\n",
    "# Get feature importance from coefficients\n",
    "importances = np.abs(best_lr.named_steps['logisticregression'].coef_).mean(axis=0)\n",
    "sorted_indices = np.argsort(importances)[::-1]\n",
    "\n",
    "# Print top important features\n",
    "for idx in sorted_indices:\n",
    "    print(f\"{X_train.columns[idx]}: {importances[idx]:.4f}\")"
   ]
  },
  {
   "cell_type": "markdown",
   "metadata": {},
   "source": [
    "## Decision Tree"
   ]
  },
  {
   "cell_type": "code",
   "execution_count": null,
   "metadata": {},
   "outputs": [
    {
     "name": "stdout",
     "output_type": "stream",
     "text": [
      "Best Parameters: {'criterion': 'entropy', 'max_depth': 15, 'min_samples_leaf': 1, 'min_samples_split': 2}\n",
      "Best Accuracy: 0.7791871921182265\n",
      "Best Micro F1 Score: 0.7791871921182266\n"
     ]
    }
   ],
   "source": [
    "# Define parameter grid\n",
    "param_grid = {\n",
    "    'max_depth': [3, 5, 10, 12, 15],\n",
    "    'min_samples_split': [2, 5, 10],\n",
    "    'min_samples_leaf': [1, 2, 4], \n",
    "    'criterion': ['gini', 'entropy']\n",
    "}\n",
    "\n",
    "# Compute class weights to balance class imbalance\n",
    "classes = np.unique(y_train)\n",
    "class_weights = compute_class_weight(class_weight=\"balanced\", classes=classes, y=y_train)\n",
    "class_weight_dict = dict(zip(classes, class_weights))\n",
    "\n",
    "# Initialize Decision Tree Classifier\n",
    "clf = DecisionTreeClassifier(random_state=42, class_weight=class_weight_dict)\n",
    "\n",
    "# Define scoring metrics: Accuracy and Micro F1\n",
    "scoring = {\n",
    "    'accuracy': make_scorer(accuracy_score),\n",
    "    'f1_micro': make_scorer(f1_score, average='micro')\n",
    "}\n",
    "\n",
    "# Perform GridSearch\n",
    "grid_search = GridSearchCV(clf, param_grid, cv=10, scoring=scoring, refit='f1_micro', n_jobs=-1)\n",
    "\n",
    "# Fit the model\n",
    "grid_search.fit(X_train, y_train)\n",
    "\n",
    "# Best parameters found\n",
    "print(\"Best Parameters:\", grid_search.best_params_)\n",
    "print(\"Best Accuracy:\", grid_search.cv_results_['mean_test_accuracy'][grid_search.best_index_])\n",
    "print(\"Best Micro F1 Score:\", grid_search.best_score_) \n",
    "\n",
    "best_dt = grid_search.best_estimator_\n"
   ]
  },
  {
   "cell_type": "code",
   "execution_count": 156,
   "metadata": {},
   "outputs": [
    {
     "name": "stdout",
     "output_type": "stream",
     "text": [
      "Accuracy: 0.66\n",
      "Micro F1 Score: 0.66\n",
      "Total Precision: 0.66\n",
      "Total Recall: 0.66\n",
      "[[42  9  5  1]\n",
      " [ 4  1  0  0]\n",
      " [ 1  3  3  1]\n",
      " [ 0  0  0  1]]\n",
      "0: Precision=0.89, Recall=0.74, F1-Score=0.81\n",
      "1: Precision=0.08, Recall=0.20, F1-Score=0.11\n",
      "2: Precision=0.38, Recall=0.38, F1-Score=0.38\n",
      "3: Precision=0.33, Recall=1.00, F1-Score=0.50\n",
      "accuracy: 0.66\n",
      "macro avg: Precision=0.42, Recall=0.58, F1-Score=0.45\n",
      "weighted avg: Precision=0.77, Recall=0.66, F1-Score=0.71\n",
      "micro F1-score: 0.66\n"
     ]
    }
   ],
   "source": [
    "y_pred_dt = best_dt.predict(X_test)\n",
    "conf_matrix_dt = evaluate(y_test, y_pred_dt)"
   ]
  },
  {
   "cell_type": "code",
   "execution_count": 157,
   "metadata": {},
   "outputs": [
    {
     "data": {
      "image/png": "[encoded data removed]",
      "text/plain": [
       "<Figure size 500x400 with 2 Axes>"
      ]
     },
     "metadata": {},
     "output_type": "display_data"
    }
   ],
   "source": [
    "plot_conf(conf_matrix_dt)"
   ]
  },
  {
   "cell_type": "markdown",
   "metadata": {},
   "source": [
    "**Feature importances**"
   ]
  },
  {
   "cell_type": "code",
   "execution_count": 158,
   "metadata": {},
   "outputs": [
    {
     "name": "stdout",
     "output_type": "stream",
     "text": [
      "MaleParentEducationGroup: 0.3675\n",
      "FemaleParentEducationGroup: 0.3374\n",
      "FemaleParentEducationLevel: 0.1097\n",
      "MaleParentEducationLevel: 0.0716\n",
      "Gender: 0.0589\n",
      "EducationLevel: 0.0548\n"
     ]
    }
   ],
   "source": [
    "X_train = pd.DataFrame(X_train, columns=feature_names) \n",
    "\n",
    "importances = best_dt.feature_importances_\n",
    "sorted_indices = importances.argsort()[::-1]\n",
    "\n",
    "# Print top important features\n",
    "for idx in sorted_indices:\n",
    "    print(f\"{X_train.columns[idx]}: {importances[idx]:.4f}\")"
   ]
  },
  {
   "cell_type": "markdown",
   "metadata": {},
   "source": [
    "## Random Forest"
   ]
  },
  {
   "cell_type": "code",
   "execution_count": null,
   "metadata": {},
   "outputs": [
    {
     "name": "stdout",
     "output_type": "stream",
     "text": [
      "Best Parameters: {'max_depth': 10, 'max_features': 0.7, 'min_samples_leaf': 2, 'min_samples_split': 5, 'n_estimators': 200}\n",
      "Best Accuracy: 0.7758620689655172\n",
      "Best Micro F1 Score: 0.7758620689655172\n",
      "OOB Score: 0.7464788732394366\n"
     ]
    }
   ],
   "source": [
    "# Define parameter grid\n",
    "param_grid = {\n",
    "    'n_estimators': [50, 100, 200],\n",
    "    'max_depth': [5, 10, 15],\n",
    "    'min_samples_split': [5, 10, 15],\n",
    "    'min_samples_leaf': [2, 5, 10],\n",
    "    'max_features': ['sqrt', 'log2', 0.7]\n",
    "}\n",
    "\n",
    "classes = np.unique(y_train)\n",
    "class_weights = compute_class_weight(class_weight=\"balanced\", classes=classes, y=y_train)\n",
    "class_weight_dict = dict(zip(classes, class_weights))\n",
    "\n",
    "rf = RandomForestClassifier(random_state=42, oob_score=True, class_weight=class_weight_dict)\n",
    "\n",
    "# Define scoring metrics: Accuracy and Micro F1\n",
    "scoring = {\n",
    "    'accuracy': make_scorer(accuracy_score),\n",
    "    'f1_micro': make_scorer(f1_score, average='micro')\n",
    "}\n",
    "\n",
    "# Perform GridSearch\n",
    "grid_search = GridSearchCV(rf, param_grid, cv=10, scoring=scoring, refit='f1_micro', n_jobs=-1)\n",
    "\n",
    "grid_search.fit(X_train, y_train)\n",
    "\n",
    "# Best parameters found\n",
    "print(\"Best Parameters:\", grid_search.best_params_)\n",
    "print(\"Best Accuracy:\", grid_search.cv_results_['mean_test_accuracy'][grid_search.best_index_])\n",
    "print(\"Best Micro F1 Score:\", grid_search.best_score_)  # Micro F1 score\n",
    "print(\"OOB Score:\", grid_search.best_estimator_.oob_score_)\n",
    "\n",
    "best_rf = grid_search.best_estimator_\n"
   ]
  },
  {
   "cell_type": "code",
   "execution_count": 160,
   "metadata": {},
   "outputs": [
    {
     "name": "stdout",
     "output_type": "stream",
     "text": [
      "Accuracy: 0.72\n",
      "Micro F1 Score: 0.72\n",
      "Total Precision: 0.72\n",
      "Total Recall: 0.72\n",
      "[[42  8  7  0]\n",
      " [ 2  1  2  0]\n",
      " [ 0  0  8  0]\n",
      " [ 1  0  0  0]]\n",
      "0: Precision=0.93, Recall=0.74, F1-Score=0.82\n",
      "1: Precision=0.11, Recall=0.20, F1-Score=0.14\n",
      "2: Precision=0.47, Recall=1.00, F1-Score=0.64\n",
      "3: Precision=0.00, Recall=0.00, F1-Score=0.00\n",
      "accuracy: 0.72\n",
      "macro avg: Precision=0.38, Recall=0.48, F1-Score=0.40\n",
      "weighted avg: Precision=0.81, Recall=0.72, F1-Score=0.74\n",
      "micro F1-score: 0.72\n"
     ]
    }
   ],
   "source": [
    "y_pred_rf = best_rf.predict(X_test)\n",
    "conf_matrix_rf = evaluate(y_test, y_pred_rf)"
   ]
  },
  {
   "cell_type": "code",
   "execution_count": 161,
   "metadata": {},
   "outputs": [
    {
     "data": {
      "image/png": "[encoded data removed]",
      "text/plain": [
       "<Figure size 500x400 with 2 Axes>"
      ]
     },
     "metadata": {},
     "output_type": "display_data"
    }
   ],
   "source": [
    "plot_conf(conf_matrix_rf)"
   ]
  },
  {
   "cell_type": "markdown",
   "metadata": {},
   "source": [
    "**Feature importances**"
   ]
  },
  {
   "cell_type": "code",
   "execution_count": 162,
   "metadata": {},
   "outputs": [
    {
     "name": "stdout",
     "output_type": "stream",
     "text": [
      "MaleParentEducationGroup: 0.3181\n",
      "FemaleParentEducationGroup: 0.3099\n",
      "FemaleParentEducationLevel: 0.1216\n",
      "EducationLevel: 0.1048\n",
      "MaleParentEducationLevel: 0.0983\n",
      "Gender: 0.0474\n"
     ]
    }
   ],
   "source": [
    "X_train = pd.DataFrame(X_train, columns=feature_names) \n",
    "\n",
    "importances = best_rf.feature_importances_\n",
    "sorted_indices = importances.argsort()[::-1]\n",
    "\n",
    "# Print top important features\n",
    "for idx in sorted_indices:\n",
    "    print(f\"{X_train.columns[idx]}: {importances[idx]:.4f}\")"
   ]
  },
  {
   "cell_type": "markdown",
   "metadata": {},
   "source": [
    "## XGBoost"
   ]
  },
  {
   "cell_type": "code",
   "execution_count": 163,
   "metadata": {},
   "outputs": [
    {
     "name": "stdout",
     "output_type": "stream",
     "text": [
      "Best Parameters: {'colsample_bytree': 1.0, 'gamma': 0, 'learning_rate': 0.2, 'max_depth': 5, 'min_child_weight': 1, 'n_estimators': 50, 'subsample': 1.0}\n",
      "Best Accuracy: 0.8318965517241379\n",
      "Best Micro F1 Score: 0.8318965517241379\n"
     ]
    }
   ],
   "source": [
    "# Define parameter grid\n",
    "param_grid = {\n",
    "    'n_estimators': [50, 100, 200],  # Number of boosting rounds\n",
    "    'learning_rate': [0.01, 0.1, 0.2],  # Step size shrinkage\n",
    "    'max_depth': [3, 5, 7],  # Maximum depth of a tree\n",
    "    'min_child_weight': [1, 3, 5],  # Minimum sum of weights in a child node\n",
    "    'gamma': [0, 0.1, 0.3],  # Minimum loss reduction required to make a split\n",
    "    'subsample': [0.7, 1.0],  # Fraction of samples used per tree\n",
    "    'colsample_bytree': [0.7, 1.0]  # Fraction of features used per tree\n",
    "}\n",
    "\n",
    "xgb_clf = xgb.XGBClassifier(use_label_encoder=False, eval_metric='mlogloss', random_state=42)\n",
    "\n",
    "# Define scoring metrics: Accuracy and Micro F1\n",
    "scoring = {\n",
    "    'accuracy': make_scorer(accuracy_score),\n",
    "    'f1_micro': make_scorer(f1_score, average='micro')\n",
    "}\n",
    "\n",
    "# Perform GridSearch\n",
    "grid_search = GridSearchCV(xgb_clf, param_grid, cv=10, scoring=scoring, refit='f1_micro', n_jobs=-1)\n",
    "\n",
    "grid_search.fit(X_train, y_train)\n",
    "\n",
    "# Best parameters found\n",
    "print(\"Best Parameters:\", grid_search.best_params_)\n",
    "print(\"Best Accuracy:\", grid_search.cv_results_['mean_test_accuracy'][grid_search.best_index_])\n",
    "print(\"Best Micro F1 Score:\", grid_search.best_score_)  # Micro F1 score\n",
    "\n",
    "best_xgb = grid_search.best_estimator_"
   ]
  },
  {
   "cell_type": "code",
   "execution_count": 164,
   "metadata": {},
   "outputs": [
    {
     "name": "stdout",
     "output_type": "stream",
     "text": [
      "Accuracy: 0.80\n",
      "Micro F1 Score: 0.80\n",
      "Total Precision: 0.80\n",
      "Total Recall: 0.80\n",
      "[[50  5  2  0]\n",
      " [ 2  1  2  0]\n",
      " [ 2  0  6  0]\n",
      " [ 1  0  0  0]]\n",
      "0: Precision=0.91, Recall=0.88, F1-Score=0.89\n",
      "1: Precision=0.17, Recall=0.20, F1-Score=0.18\n",
      "2: Precision=0.60, Recall=0.75, F1-Score=0.67\n",
      "3: Precision=0.00, Recall=0.00, F1-Score=0.00\n",
      "accuracy: 0.80\n",
      "macro avg: Precision=0.42, Recall=0.46, F1-Score=0.44\n",
      "weighted avg: Precision=0.81, Recall=0.80, F1-Score=0.80\n",
      "micro F1-score: 0.80\n"
     ]
    }
   ],
   "source": [
    "y_pred_xgb = best_xgb.predict(X_test)\n",
    "conf_matrix_xgb = evaluate(y_test, y_pred_xgb)"
   ]
  },
  {
   "cell_type": "code",
   "execution_count": 165,
   "metadata": {},
   "outputs": [
    {
     "data": {
      "image/png": "[encoded data removed]",
      "text/plain": [
       "<Figure size 500x400 with 2 Axes>"
      ]
     },
     "metadata": {},
     "output_type": "display_data"
    }
   ],
   "source": [
    "plot_conf(conf_matrix_xgb)"
   ]
  },
  {
   "cell_type": "markdown",
   "metadata": {},
   "source": [
    "**Feature importances**"
   ]
  },
  {
   "cell_type": "code",
   "execution_count": 166,
   "metadata": {},
   "outputs": [
    {
     "name": "stdout",
     "output_type": "stream",
     "text": [
      "MaleParentEducationGroup: 0.2506\n",
      "FemaleParentEducationGroup: 0.2011\n",
      "Gender: 0.1722\n",
      "MaleParentEducationLevel: 0.1363\n",
      "EducationLevel: 0.1315\n",
      "FemaleParentEducationLevel: 0.1084\n"
     ]
    }
   ],
   "source": [
    "X_train = pd.DataFrame(X_train, columns=feature_names) \n",
    "\n",
    "importances = best_xgb.feature_importances_\n",
    "sorted_indices = importances.argsort()[::-1]\n",
    "\n",
    "# Print top important features\n",
    "for idx in sorted_indices:\n",
    "    print(f\"{X_train.columns[idx]}: {importances[idx]:.4f}\")"
   ]
  },
  {
   "cell_type": "code",
   "execution_count": 167,
   "metadata": {},
   "outputs": [
    {
     "data": {
      "image/png": "[encoded data removed]",
      "text/plain": [
       "<Figure size 1200x1000 with 5 Axes>"
      ]
     },
     "metadata": {},
     "output_type": "display_data"
    }
   ],
   "source": [
    "fig, axes = plt.subplots(2, 2, figsize=(12, 10))\n",
    "\n",
    "# Plot each heatmap\n",
    "sns.heatmap(conf_matrix_lr, ax=axes[0, 0], cmap=\"Blues\", cbar=False, annot=True)\n",
    "axes[0, 0].set_title(\"Logistic Regression\")\n",
    "axes[0, 0].set_xlabel(\"Predicted\")\n",
    "axes[0, 0].set_ylabel(\"Actual\")\n",
    "\n",
    "sns.heatmap(conf_matrix_dt, ax=axes[0, 1], cmap=\"Blues\", cbar=False, annot=True)\n",
    "axes[0, 1].set_title(\"Decision Trees\")\n",
    "axes[0, 1].set_xlabel(\"Predicted\")\n",
    "axes[0, 1].set_ylabel(\"Actual\")\n",
    "\n",
    "sns.heatmap(conf_matrix_rf, ax=axes[1, 0], cmap=\"Blues\", annot=True, cbar=True, cbar_ax=fig.add_axes([0.92, 0.3, 0.02, 0.4]))\n",
    "axes[1, 0].set_title(\"Random Forest\")\n",
    "axes[1, 0].set_xlabel(\"Predicted\")\n",
    "axes[1, 0].set_ylabel(\"Actual\")\n",
    "\n",
    "sns.heatmap(conf_matrix_xgb, ax=axes[1, 1], cmap=\"Blues\", cbar=False, annot=True)\n",
    "axes[1, 1].set_title(\"XGBoost\")\n",
    "axes[1, 1].set_xlabel(\"Predicted\")\n",
    "axes[1, 1].set_ylabel(\"Actual\")\n",
    "\n",
    "plt.tight_layout(rect=[0, 0, 0.9, 1])\n",
    "\n",
    "plt.show()\n"
   ]
  }
 ],
 "metadata": {
  "kernelspec": {
   "display_name": "base",
   "language": "python",
   "name": "python3"
  },
  "language_info": {
   "codemirror_mode": {
    "name": "ipython",
    "version": 3
   },
   "file_extension": ".py",
   "mimetype": "text/x-python",
   "name": "python",
   "nbconvert_exporter": "python",
   "pygments_lexer": "ipython3",
   "version": "3.9.13"
  }
 },
 "nbformat": 4,
 "nbformat_minor": 2
}
