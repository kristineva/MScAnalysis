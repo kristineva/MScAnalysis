{
 "cells": [
  {
   "cell_type": "markdown",
   "metadata": {},
   "source": [
    "# MSc Project - Questionnaire Pre Processing"
   ]
  },
  {
   "cell_type": "code",
   "execution_count": 1534,
   "metadata": {},
   "outputs": [],
   "source": [
    "import pandas as pd\n",
    "import sys\n",
    "import numpy as np\n",
    "from getmaps import field_mapping, occupation_mapping, education_mapping # These dictionaries contain answers from participants when they answered \"other\" and wrote their answer in"
   ]
  },
  {
   "cell_type": "code",
   "execution_count": 1535,
   "metadata": {},
   "outputs": [
    {
     "name": "stdout",
     "output_type": "stream",
     "text": [
      "python 3.9.13 (main, Aug 25 2022, 18:29:29) \n",
      "[Clang 12.0.0 ]\n"
     ]
    }
   ],
   "source": [
    "# Check python version.\n",
    "# This code should run for python version >=3.6\n",
    "\n",
    "print(\"python\", sys.version)"
   ]
  },
  {
   "cell_type": "code",
   "execution_count": 1536,
   "metadata": {},
   "outputs": [],
   "source": [
    "data = pd.read_csv(\"data/questionnaire.csv\", sep=\";\", index_col=0)"
   ]
  },
  {
   "cell_type": "code",
   "execution_count": 1537,
   "metadata": {},
   "outputs": [],
   "source": [
    "data_df = data.copy()"
   ]
  },
  {
   "cell_type": "markdown",
   "metadata": {},
   "source": [
    "## Clean up"
   ]
  },
  {
   "cell_type": "code",
   "execution_count": 1538,
   "metadata": {},
   "outputs": [],
   "source": [
    "data_df = data.copy()\n",
    "\n",
    "# Removing rows where Start Time is before 3 PM on November 29 2024\n",
    "data_df['Start time'] = pd.to_datetime(data_df['Start time'], format='%d.%m.%Y %H:%M')\n",
    "data_df = data_df[data_df['Start time'] > pd.to_datetime('2024-11-29 15:00:00')]\n",
    "\n",
    "# Removing unnecessary columns\n",
    "data_df = data_df.drop([\n",
    "    'Start time', \n",
    "    'Completion time', \n",
    "    'Email', \n",
    "    'Name',\n",
    "    'I agree to participate in this study / Ég samþykki að taka þátt í þessari könnun'\n",
    "    ], axis=1)"
   ]
  },
  {
   "cell_type": "markdown",
   "metadata": {},
   "source": [
    "**Removing participants that did not answer the question \"Hver er/vat þín námsbraut?\" as it is neccessary to know what the participant studies for their answers to be relevant**"
   ]
  },
  {
   "cell_type": "code",
   "execution_count": 1539,
   "metadata": {},
   "outputs": [],
   "source": [
    "data_df = data_df[~((data_df['Hver er/var þín námsbraut?'].isna()) & (data_df['In what language would you like to complete this questionnaire? / Á hvaða tungumáli vilt þú svara þessari könnun?'] == 'Íslensku'))]"
   ]
  },
  {
   "cell_type": "markdown",
   "metadata": {},
   "source": [
    "**Changing the structure of the dataframe so that answers in english and icelandic are in the same columns**"
   ]
  },
  {
   "cell_type": "code",
   "execution_count": 1540,
   "metadata": {},
   "outputs": [],
   "source": [
    "# Splitting the dataframe into two, one with Icelandic answers and the other with English answers\n",
    "df_ice = data_df.loc[:,:'Er eitthvað sem þú vilt bæta við?']\n",
    "df_en = data_df.loc[:,'Gender':] "
   ]
  },
  {
   "cell_type": "code",
   "execution_count": 1541,
   "metadata": {},
   "outputs": [],
   "source": [
    "lang_q = 'In what language would you like to complete this questionnaire? / Á hvaða tungumáli vilt þú svara þessari könnun?'\n",
    "df_ice['Language'] = df_ice[lang_q]\n",
    "df_ice = df_ice.drop([lang_q], axis=1)\n",
    "df_ice = df_ice[df_ice['Language'] != 'English']\n",
    "\n",
    "df_ice['Language'] = 'Icelandic'\n",
    "df_en['Language'] = 'English'\n",
    "\n",
    "df_en.drop(index=df_en.index[df_en.index.isin(df_ice.index)], inplace=True)"
   ]
  },
  {
   "cell_type": "markdown",
   "metadata": {},
   "source": [
    "**Combine data for Icelandic and English participants**"
   ]
  },
  {
   "cell_type": "code",
   "execution_count": 1542,
   "metadata": {},
   "outputs": [],
   "source": [
    "df_en.columns = df_ice.columns.tolist()\n",
    "\n",
    "# Combining df_ice and df_en\n",
    "df_combined = pd.concat([df_ice, df_en], ignore_index=True)"
   ]
  },
  {
   "cell_type": "markdown",
   "metadata": {},
   "source": [
    "**Making 'id' a column**"
   ]
  },
  {
   "cell_type": "code",
   "execution_count": 1543,
   "metadata": {},
   "outputs": [],
   "source": [
    "df_combined.index.name = 'id'\n",
    "df_combined = df_combined.reset_index()"
   ]
  },
  {
   "cell_type": "markdown",
   "metadata": {},
   "source": [
    "**Renaming and translating columns** "
   ]
  },
  {
   "cell_type": "code",
   "execution_count": 1544,
   "metadata": {},
   "outputs": [],
   "source": [
    "# Simplifying process of identifying questions relating to parents\n",
    "df_combined.rename(columns={\n",
    "    'Hvert er kyn þitt?': 'Gender',\n",
    "    'Hvert er fæðingarár þitt?': 'Year of Birth',\n",
    "    'Hæsta menntunarstig': 'Education Level',\n",
    "    'Ert þú í námi?': 'Student',\n",
    "    'Hverskonar námi ert þú í?': 'Current Degree',\n",
    "    'Hver er/var þín námsbraut?': 'Education Field',\n",
    "    'Starfssvið': 'Occupational Field',\n",
    "    'Hversu mörg systkini átt þú?': 'Number of Siblings',\n",
    "    'Hve marga einstaklinga myndir þú telja vera aðalforráðamenn þínir í uppeldi þínu?': 'Number of Parents',\n",
    "    'Hver eru tengsl þín við þetta foreldri/forráðamann?': 'One parent - Connection',\n",
    "    'Hvert er kyn þeirra?': 'One parent - Gender',\n",
    "    'Hvert er þeirra hæsta menntunarstig?': 'One parent - Education Level',\n",
    "    'Hver var námsbraut þeirra?': 'One parent - Education Field',\n",
    "    'Hvert er starfssvið þeirra?': 'One parent - Occupational Field',\n",
    "    'Telur þú að þessi foreldri/forráðamaður hafi haft áhrif á þig við val á námi þínu að einhverju leiti?': 'One parent - Influence',\n",
    "    'Fyrsta foreldri - Hver eru tengsl þín við þetta foreldri/forráðamann?': 'Two parents - First - Connection',\n",
    "    'Fyrsta foreldri - Hvert er kyn þeirra?': 'Two parents - First - Gender',\n",
    "    'Fyrsta foreldri - Hvert er þeirra hæsta menntunarstig?': 'Two parents - First - Education Level',\n",
    "    'Fyrsta foreldri - Hver var námsbraut þeirra?': 'Two parents - First - Education Field',\n",
    "    'Fyrsta foreldri - Hvert er starfssvið þeirra?': 'Two parents - First - Occupational Field',\n",
    "    'Fyrsta foreldri - Telur þú að þessi foreldri/forráðamaður hafi haft áhrif á þig við val á námi þínu að einhverju leiti?': 'Two parents - First - Influence',\n",
    "    'Annað foreldri - Hver eru tengsl þín við þetta foreldri/forráðamann?': 'Two parents - Second - Connection',\n",
    "    'Annað foreldri - Hvert er kyn þeirra?': 'Two parents - Second - Gender',\n",
    "    'Annað foreldri - Hvert er þeirra hæsta menntunarstig?': 'Two parents - Second - Education Level',\n",
    "    'Annað foreldri - Hver var námsbraut þeirra?': 'Two parents - Second - Education Field',\n",
    "    'Annað foreldri - Hvert er starfssvið þeirra?': 'Two parents - Second - Occupational Field',\n",
    "    'Annað foreldri - Telur þú að þessi foreldri/forráðamaður hafi haft áhrif á þig við val á námi þínu að einhverju leiti?': 'Two parents - Second - Influence',\n",
    "    'Fyrsta foreldri - Hver eru tengsl þín við þetta foreldri/forráðamann?1': 'Three parents - First - Connection',\n",
    "    'Fyrsta foreldri - Hvert er kyn þeirra?1': 'Three parents - First - Gender',\n",
    "    'Fyrsta foreldri - Hvert er þeirra hæsta menntunarstig?1': 'Three parents - First - Education Level',\n",
    "    'Fyrsta foreldri - Hver var námsbraut þeirra?2': 'Three parents - First - Education Field',\n",
    "    'Fyrsta foreldri - Hvert er starfssvið þeirra?1': 'Three parents - First - Occupational Field',\n",
    "    'Fyrsta foreldri - Telur þú að þessi foreldri/forráðamaður hafi haft áhrif á þig við val á námi þínu að einhverju leiti?1': 'Three parents - First - Influence',\n",
    "    'Annað foreldri - Hver eru tengsl þín við þetta foreldri/forráðamann?1': 'Three parents - Second - Connection',\n",
    "    'Annað foreldri - Hvert er kyn þeirra?1': 'Three parents - Second - Gender',\n",
    "    'Annað foreldri - Hvert er þeirra hæsta menntunarstig?1': 'Three parents - Second - Education Level',\n",
    "    'Annað foreldri - Hver var námsbraut þeirra?1': 'Three parents - Second - Education Field',\n",
    "    'Annað foreldri - Hvert er starfssvið þeirra?1': 'Three parents - Second - Occupational Field',\n",
    "    'Annað foreldri - Telur þú að þessi foreldri/forráðamaður hafi haft áhrif á þig við val á námi þínu að einhverju leiti?1': 'Three parents - Second - Influence',\n",
    "    'Þriðja foreldri - Hver eru tengsl þín við þetta foreldri/forráðamann?': 'Three parents - Third - Connection',\n",
    "    'Þriðja foreldri - Hvert er kyn þeirra?': 'Three parents - Third - Gender',\n",
    "    'Þriðja foreldri - Hvert er þeirra hæsta menntunarstig?': 'Three parents - Third - Education Level',\n",
    "    'Þriðja foreldri - Hver var námsbraut þeirra?': 'Three parents - Third - Education Field',\n",
    "    'Þriðja foreldri - Hvert er starfssvið þeirra?': 'Three parents - Third - Occupational Field',\n",
    "    'Þriðja foreldri - Telur þú að þessi foreldri/forráðamaður hafi haft áhrif á þig við val á námi þínu að einhverju leiti?': 'Three parents - Third - Influence',\n",
    "    'Fyrsta foreldri - Hver eru tengsl þín við þetta foreldri/forráðamann?2': 'Four parents - First - Connection',\n",
    "    'Fyrsta foreldri - Hvert er kyn þeirra?2': 'Four parents - First - Gender',\n",
    "    'Fyrsta foreldri - Hvert er þeirra hæsta menntunarstig?2': 'Four parents - First - Education Level',\n",
    "    'Fyrsta foreldri - Hver var námsbraut þeirra?1': 'Four parents - First - Education Field',\n",
    "    'Fyrsta foreldri - Hvert er starfssvið þeirra?2': 'Four parents - First - Occupational Field',\n",
    "    'Fyrsta foreldri - Telur þú að þessi foreldri/forráðamaður hafi haft áhrif á þig við val á námi þínu að einhverju leiti?2': 'Four parents - First - Influence',\n",
    "    'Annað foreldri - Hver eru tengsl þín við þetta foreldri/forráðamann?2': 'Four parents - Second - Connection',\n",
    "    'Annað foreldri - Hvert er kyn þeirra?2': 'Four parents - Second - Gender',\n",
    "    'Annað foreldri - Hvert er þeirra hæsta menntunarstig?2': 'Four parents - Second - Education Level',\n",
    "    'Annað foreldri - Hver var námsbraut þeirra?2': 'Four parents - Second - Education Field',\n",
    "    'Annað foreldri - Hvert er starfssvið þeirra?2': 'Four parents - Second - Occupational Field',\n",
    "    'Annað foreldri - Telur þú að þessi foreldri/forráðamaður hafi haft áhrif á þig við val á námi þínu að einhverju leiti?2': 'Four parents - Second - Influence',\n",
    "    'Þriðja foreldri - Hver eru tengsl þín við þetta foreldri/forráðamann?1': 'Four parents - Third - Connection',\n",
    "    'Þriðja foreldri - Hvert er kyn þeirra?1': 'Four parents - Third - Gender',\n",
    "    'Þriðja foreldri - Hvert er þeirra hæsta menntunarstig?1': 'Four parents - Third - Education Level',\n",
    "    'Þriðja foreldri - Hver var námsbraut þeirra?1': 'Four parents - Third - Education Field',\n",
    "    'Þriðja foreldri - Hvert er starfssvið þeirra?1': 'Four parents - Third - Occupational Field',\n",
    "    'Þriðja foreldri - Telur þú að þessi foreldri/forráðamaður hafi haft áhrif á þig við val á námi þínu að einhverju leiti?1': 'Four parents - Third - Influence',\n",
    "    'Fjórða foreldri - Hver eru tengsl þín við þetta foreldri/forráðamann?': 'Four parents - Fourth - Connection',\n",
    "    'Fjórða foreldri - Hvert er kyn þeirra?': 'Four parents - Fourth - Gender',\n",
    "    'Fjórða foreldri - Hvert er þeirra hæsta menntunarstig?': 'Four parents - Fourth - Education Level',\n",
    "    'Fjórða foreldri - Hver var námsbraut þeirra?': 'Four parents - Fourth - Education Field',\n",
    "    'Fjórða foreldri - Hvert er starfssvið þeirra?': 'Four parents - Fourth - Occupational Field',\n",
    "    'Fjórða foreldri - Telur þú að þessi foreldri/forráðamaður hafi haft áhrif á þig við val á námi þínu að einhverju leiti?': 'Four parents - Fourth - Influence',\n",
    "    'Er einhver í fjölskyldu þinni, svo sem systkini, afi, amma, frændi, frænka eða frændi, sem hefur stundað sama nám og þú?': 'Same Education as Family Member',\n",
    "    'Hvaða fjölskyldu meðlimur hefur stundað sama nám og þú? Nefndu alla sem eiga við': 'Family Members w Same Education',\n",
    "    'Er einhver í fjölskyldu þinni, svo sem systkini, afi, amma, frænka eða frændi, sem hefur unnið í sama fagi eða innan sama starfsviðs og þú?': 'Same Occupation as Family Member',\n",
    "    'Hvaða fjölskyldu meðlimur hefur unnið í sama fagi eða innan sama starfsviðs og þú? Nefndu alla sem eiga við': 'Family Members w Same Occupation',\n",
    "    'Telur þú að það fag sem þú valdir sé á einhvern hátt \"hefð\" innan fjölskyldu þinnar?': 'Tradition',\n",
    "    'Er eitthvað sem þú vilt bæta við?': 'Comments'\n",
    "}, inplace=True)"
   ]
  },
  {
   "cell_type": "markdown",
   "metadata": {},
   "source": [
    "## Transform dataframe for better clarity"
   ]
  },
  {
   "cell_type": "code",
   "execution_count": 1545,
   "metadata": {},
   "outputs": [],
   "source": [
    "# Function to transform the dataframe\n",
    "def reshape_df(df):\n",
    "\n",
    "    single_parent_cols = [\n",
    "        \"One parent - Connection\", \"One parent - Gender\", \"One parent - Education Level\",\n",
    "        \"One parent - Education Field\", \"One parent - Occupational Field\", \"One parent - Influence\"\n",
    "    ]\n",
    "    \n",
    "    two_parent_cols = [\n",
    "        [\"Two parents - First - Connection\", \"Two parents - First - Gender\", \"Two parents - First - Education Level\",\n",
    "         \"Two parents - First - Education Field\", \"Two parents - First - Occupational Field\", \"Two parents - First - Influence\"],\n",
    "        [\"Two parents - Second - Connection\", \"Two parents - Second - Gender\", \"Two parents - Second - Education Level\",\n",
    "         \"Two parents - Second - Education Field\", \"Two parents - Second - Occupational Field\", \"Two parents - Second - Influence\"]\n",
    "    ]\n",
    "\n",
    "    three_parent_cols = [\n",
    "        [\"Three parents - First - Connection\", \"Three parents - First - Gender\", \"Three parents - First - Education Level\",\n",
    "         \"Three parents - First - Education Field\", \"Three parents - First - Occupational Field\", \"Three parents - First - Influence\"],\n",
    "        [\"Three parents - Second - Connection\", \"Three parents - Second - Gender\", \"Three parents - Second - Education Level\",\n",
    "         \"Three parents - Second - Education Field\", \"Three parents - Second - Occupational Field\", \"Three parents - Second - Influence\"],\n",
    "        [\"Three parents - Third - Connection\", \"Three parents - Third - Gender\", \"Three parents - Third - Education Level\",\n",
    "         \"Three parents - Third - Education Field\", \"Three parents - Third - Occupational Field\", \"Three parents - Third - Influence\"]\n",
    "    ]\n",
    "\n",
    "    four_parent_cols = [\n",
    "        [\"Four parents - First - Connection\", \"Four parents - First - Gender\", \"Four parents - First - Education Level\",\n",
    "         \"Four parents - First - Education Field\", \"Four parents - First - Occupational Field\", \"Four parents - First - Influence\"],\n",
    "        [\"Four parents - Second - Connection\", \"Four parents - Second - Gender\", \"Four parents - Second - Education Level\",\n",
    "         \"Four parents - Second - Education Field\", \"Four parents - Second - Occupational Field\", \"Four parents - Second - Influence\"],\n",
    "        [\"Four parents - Third - Connection\", \"Four parents - Third - Gender\", \"Four parents - Third - Education Level\",\n",
    "         \"Four parents - Third - Education Field\", \"Four parents - Third - Occupational Field\", \"Four parents - Third - Influence\"],\n",
    "        [\"Four parents - Fourth - Connection\", \"Four parents - Fourth - Gender\", \"Four parents - Fourth - Education Level\",\n",
    "         \"Four parents - Fourth - Education Field\", \"Four parents - Fourth - Occupational Field\", \"Four parents - Fourth - Influence\"]\n",
    "    ]\n",
    "    # List to hold transformed rows\n",
    "    transformed_rows = []\n",
    "\n",
    "    for _, row in df.iterrows():\n",
    "        base_info = row[[\"id\", \"Gender\", \"Year of Birth\", \"Education Level\", \"Student\", \"Current Degree\", \n",
    "                         \"Education Field\", \"Occupational Field\", \"Number of Siblings\", \"Number of Parents\",\n",
    "                         \"Same Education as Family Member\", \"Family Members w Same Education\", \"Same Occupation as Family Member\",\n",
    "                         \"Family Members w Same Occupation\", \"Tradition\", \"Comments\", \"Language\",\n",
    "                         ]].to_dict()\n",
    "        \n",
    "        if row[\"Number of Parents\"] == 1:\n",
    "            parent_info = row[single_parent_cols].to_dict()\n",
    "            parent_info = {k.replace(\"One parent - \", \"Parent \"): v for k, v in parent_info.items()}\n",
    "            transformed_rows.append({**base_info, **parent_info})\n",
    "        \n",
    "        elif row[\"Number of Parents\"] == 2:\n",
    "            for parent_set in two_parent_cols:\n",
    "                parent_info = row[parent_set].to_dict()\n",
    "                parent_info = {k.replace(\"Two parents - First - \", \"Parent \").replace(\"Two parents - Second - \", \"Parent \"): v for k, v in parent_info.items()}\n",
    "                transformed_rows.append({**base_info, **parent_info})\n",
    "\n",
    "        elif row[\"Number of Parents\"] == 3:\n",
    "            for parent_set in three_parent_cols:\n",
    "                parent_info = row[parent_set].to_dict()\n",
    "                parent_info = {k.replace(\"Three parents - First - \", \"Parent \").replace(\"Three parents - Second - \", \"Parent \").replace(\"Three parents - Third - \", \"Parent \"): v for k, v in parent_info.items()}\n",
    "                transformed_rows.append({**base_info, **parent_info})\n",
    "\n",
    "        elif row[\"Number of Parents\"] == 4:\n",
    "            for parent_set in four_parent_cols:\n",
    "                parent_info = row[parent_set].to_dict()\n",
    "                parent_info = {k.replace(\"Four parents - First - \", \"Parent \").replace(\"Four parents - Second - \", \"Parent \").replace(\"Four parents - Third - \", \"Parent \").replace(\"Four parents - Fourth - \", \"Parent \"): v for k, v in parent_info.items()}\n",
    "                transformed_rows.append({**base_info, **parent_info})\n",
    "    \n",
    "    return pd.DataFrame(transformed_rows)\n"
   ]
  },
  {
   "cell_type": "code",
   "execution_count": 1546,
   "metadata": {},
   "outputs": [],
   "source": [
    "# Apply transformation\n",
    "df_transformed = reshape_df(df_combined)\n",
    "\n",
    "# Rename columns for consistency\n",
    "df_transformed.rename(columns={\n",
    "    \"Parent Connection\": \"Connection\",\n",
    "    \"Parent Gender\": \"Parent Gender\",\n",
    "    \"Parent Education Level\": \"Parent Education Level\",\n",
    "    \"Parent Education Field\": \"Parent Education Field\",\n",
    "    \"Parent Occupational Field\": \"Parent Occupational Field\",\n",
    "    \"Parent Influence\": \"Influence\"\n",
    "}, inplace=True)"
   ]
  },
  {
   "cell_type": "markdown",
   "metadata": {},
   "source": [
    "**Column cleanup - Gender**"
   ]
  },
  {
   "cell_type": "code",
   "execution_count": 1547,
   "metadata": {},
   "outputs": [],
   "source": [
    "gender_mapping = {\"Karl\": \"Man\", \"Kona\": \"Woman\", np.nan: \"Unknown\", \"Kvár\": \"Non-Binary\"}\n",
    "\n",
    "df_transformed[\"Gender\"] = df_transformed[\"Gender\"].replace(gender_mapping)\n",
    "df_transformed[\"Parent Gender\"] = df_transformed[\"Parent Gender\"].replace(gender_mapping)"
   ]
  },
  {
   "cell_type": "markdown",
   "metadata": {},
   "source": [
    "**Column cleanup - Year of Birth**\n",
    "\n",
    "Some participants answered in the form of YYYY e.g. 1990 while others answered in the form of YY e.g. 90. The following function makes sure the year is in a standard format."
   ]
  },
  {
   "cell_type": "code",
   "execution_count": 1548,
   "metadata": {},
   "outputs": [],
   "source": [
    "def convert_year(yob):\n",
    "    try:\n",
    "        yob = int(yob)  # Ensure it's an integer\n",
    "        if yob < 100:  # If it's a two-digit year\n",
    "            if yob >= 30:  # Assume 1930-1999\n",
    "                yob += 1900\n",
    "            else:  # Assume 2000-2029\n",
    "                yob += 2000\n",
    "        return yob\n",
    "    except (ValueError, TypeError):  # Handle NaN or non-numeric values\n",
    "        return None  # Keep as None (NaN in pandas)\n",
    "\n",
    "\n",
    "df_transformed[\"Year of Birth\"] = df_transformed[\"Year of Birth\"].apply(convert_year)"
   ]
  },
  {
   "cell_type": "markdown",
   "metadata": {},
   "source": [
    "Adding \"Age\" column"
   ]
  },
  {
   "cell_type": "code",
   "execution_count": 1549,
   "metadata": {},
   "outputs": [],
   "source": [
    "# Calculate Age as of 2025\n",
    "df_transformed[\"Age\"] = 2025 - df_transformed[\"Year of Birth\"]"
   ]
  },
  {
   "cell_type": "markdown",
   "metadata": {},
   "source": [
    "**Column cleanup - Education Level**"
   ]
  },
  {
   "cell_type": "code",
   "execution_count": 1550,
   "metadata": {},
   "outputs": [],
   "source": [
    "education_map = {\n",
    "    'Grunnmenntun (t.d., Grunnskólapróf, gagnfræðipróf)': 'Primary',\n",
    "    'Starfs- og framhaldsmenntun (t.d., Stúdentspróf, sveinspróf)': 'Secondary',\n",
    "    'Grunnnám á háskólastigi\\xa0(t.d., BA, BS)': 'Bachelors',\n",
    "    'Meistaranám á háskólastigi\\xa0(t.d., MA, MS, MBA)': 'Masters',\n",
    "    'Doktorsnám\\xa0(t.d., PhD, EdD)': 'Doctoral',\n",
    "    'High school diploma, or vocational degree at the upper secondary level (e.g., Stúdentspróf, Sveinspróf)': 'Secondary',\n",
    "    'Bachelor’s degree (e.g., BA, BS)': 'Bachelors',\n",
    "    'Master’s degree (e.g., MA, MS, MBA)': 'Masters',\n",
    "    'Doctoral degree (e.g., PhD, EdD)': 'Doctoral',\n",
    "}\n",
    "\n",
    "\n",
    "df_transformed['Education Level'] = df_transformed['Education Level'].map(education_map)\n",
    "df_transformed['Parent Education Level'] = df_transformed['Parent Education Level'].map(education_map)"
   ]
  },
  {
   "cell_type": "markdown",
   "metadata": {},
   "source": [
    "**Column cleanup - Student**"
   ]
  },
  {
   "cell_type": "code",
   "execution_count": 1551,
   "metadata": {},
   "outputs": [],
   "source": [
    "yes_no_mapping = {\"Nei\": \"No\", \"Já\": \"Yes\", np.nan: \"Unknown\", \"Kannski\": \"Maybe\"}\n",
    "\n",
    "df_transformed[\"Student\"] = df_transformed[\"Student\"].replace(yes_no_mapping)"
   ]
  },
  {
   "cell_type": "markdown",
   "metadata": {},
   "source": [
    "**Column cleanup - Current Degree**"
   ]
  },
  {
   "cell_type": "code",
   "execution_count": null,
   "metadata": {},
   "outputs": [],
   "source": [
    "def map_education(value):\n",
    "    return education_mapping.get(value, \"Other\")\n",
    "\n",
    "df_transformed['Current Degree'] = df_transformed['Current Degree'].apply(map_education)"
   ]
  },
  {
   "cell_type": "markdown",
   "metadata": {},
   "source": [
    "**Column cleanup - Education Field & Parent Education Field**"
   ]
  },
  {
   "cell_type": "code",
   "execution_count": 1553,
   "metadata": {},
   "outputs": [],
   "source": [
    "education_field_list = [\n",
    "    \"Afbrotafræði\", \"Alþjóðaréttur\", \"Alþjóðasamskipti\", \"Alþjóðaviðskipti\", \"Arkitektúr\",\n",
    "    \"Borgarskipulag\", \"Byggingarverkfræði\", \"Bókhald\", \"Bókmenntafræði\", \"Dýralæknisfræði\",\n",
    "    \"Efnafræði\", \"Eðlisfræði\", \"Ferðamálafræði\", \"Fjármál\", \"Fjármálaverkfræði\", \"Flugverkfræði\",\n",
    "    \"Fornleifafræði\", \"Framhaldsskóla kennsla\", \"Frammistöðulistir (leikhús, dans o.s.frv.)\",\n",
    "    \"Frumkvöðlafræði\", \"Fyrirtækjafjármál\", \"Félagsfræði\", \"Félagsráðgjöf\", \"Geislafræði\", \n",
    "    \"Grafísk hönnun\", \"Grunnskóla kennsla\", \"Guðfræði & trúarbragðafræði\", \"Hagfræði\", \"Heilbrigðismál\",\n",
    "    \"Heimspeki\", \"Hjúkrunarfræði\", \"Hreyfifræði\", \"Hugbúnaðarverkfræði\", \"Iðnaðarlíftækni\"\n",
    "    \"Jarðvísindi (jarðfræði, veðurfræði, ofl.)\", \"Kennsla\", \"Kvikmyndafræði\", \"Landafræði\",\n",
    "    \"Landbúnaðarfræði\", \"Landslagsarkitektúr\", \"Leikskóla kennsla\", \"List og hönnun\", \"Lyfjafræði\", \n",
    "    \"Læknisfræði (MD)\", \"Lífefnafræði\", \"Lífeindafræði\", \"Líffræði\", \"Lögfræði\", \"Mannauðsstjórnun\", \n",
    "    \"Mannfræði\", \"Markaðsfræði\", \"Mekatróníkverkfræði\", \"Menntastjórnun\", \"Miðlun og samskipti\", \n",
    "    \"Næringarfræði og næringarráðgjöf\", \"Opinber stjórnsýsla\", \"Rafmagnsverkfræði\", \"Refsiréttur\", \"Saga\",\n",
    "    \"Sameindalíffræði\", \"Sjúkraþjálfun\", \"Skógarbúskapur\", \"Stjórnmálafræði\", \"Stjörnufræði\", \"Stærðfræði\", \n",
    "    \"Sálfræði\", \"Sérkennsla\", \"Tannlækningar\", \"Trúarbragðafræði\", \"Tungumál og bókmenntir\", \"Tónlist\",\n",
    "    \"Tölvunarfræði\", \"Umhverfisfræði\", \"Umhverfisstjórnun\", \"Upplýsingatækni\", \"Verkfræði\", \"Verkfræðistjórnun\",\n",
    "    \"Viðburðastjórnun\", \"Viðskiptafræði\", \"Viðskiptastjórnun\", \"Vélaverkfræði\", \"Vélmennafræði (Robotics)\",\n",
    "    \"Íþróttafræði\", \"Íþróttastjórnun\", \"Íþróttaþjálfun\", \"Þjóðfræði\", \"Other\"\n",
    "    ]\n"
   ]
  },
  {
   "cell_type": "code",
   "execution_count": null,
   "metadata": {},
   "outputs": [],
   "source": [
    "# Replacing values not in education_field_list with their appropriate value\n",
    "\n",
    "def map_field(value):\n",
    "    # Check if the value is in field_mapping or in education_field_list\n",
    "    if value in field_mapping:\n",
    "        return field_mapping[value]\n",
    "    elif value in education_field_list:\n",
    "        return value \n",
    "    else:\n",
    "        return \"Other\" \n",
    "\n",
    "df_transformed['Education Field'] = df_transformed['Education Field'].apply(map_field)\n",
    "df_transformed['Parent Education Field'] = df_transformed['Parent Education Field'].apply(map_field)\n"
   ]
  },
  {
   "cell_type": "markdown",
   "metadata": {},
   "source": [
    "**Column cleanup - Occupational Field & Parent Occupational Field**"
   ]
  },
  {
   "cell_type": "code",
   "execution_count": 1555,
   "metadata": {},
   "outputs": [],
   "source": [
    "occupation_list = [\n",
    "    \"Student\", \"Agriculture, forestry, and fisheries\", \"Arts, and entertainment\", \"Business and management\", \"Construction and real estate\"\n",
    "    \"Education and training\", \"Engineering and manufacturing\", \"Finance and banking\", \"Government, public administration, and law enforcement\",\n",
    "    \"Healthcare and medicine\", \"Hospitality and tourism\", \"Information technology and software\", \"Law and legal services\",\n",
    "    \"Nonprofit and social services\", \"Retail and consumer services\", \"Sales, marketing, and advertising\", \"Science and research\", \"Telecommunications and media\"\n",
    "    ]"
   ]
  },
  {
   "cell_type": "code",
   "execution_count": 1556,
   "metadata": {},
   "outputs": [],
   "source": [
    "occupation_map = {\n",
    "    'Ég er námsmaður': 'Student',\n",
    "    'Landbúnaður, skógrækt og fiskveiðar': 'Agriculture, forestry, and fisheries',\n",
    "    'Listir og afþreying': 'Arts, and entertainmen',\n",
    "    'Viðskipti og stjórnun': 'Business and management',\n",
    "    'Byggingariðnaður og fasteignir': 'Construction and real estate',\n",
    "    'Menntun og þjálfun': 'Education and training',\n",
    "    'Verkfræði og framleiðsla': 'Engineering and manufacturing',\n",
    "    'Fjármögnun og bankastarfsemi': 'Finance and banking',\n",
    "    'Ríkisvöld, opinber stjórnsýsla og löggæsla': 'Government, public administration, and law enforcement',\n",
    "    'Heilbrigðisþjónusta og læknisfræði': 'Healthcare and medicine',\n",
    "    'Gestamóttaka og ferðaþjónusta': 'Hospitality and tourism',\n",
    "    'Upplýsingatækni og hugbúnaður': 'Information technology and software',\n",
    "    'Lögfræði og lögfræðiþjónustur': 'Law and legal services',\n",
    "    'Óhagnaðardrifin samtök og félagsþjónusta': 'Nonprofit and social services',\n",
    "    'Smásala og neytendþjónusta': 'Retail and consumer services',\n",
    "    'Sölur, markaðssetning og auglýsingar': 'Sales, marketing, and advertising',\n",
    "    'Vísindi og rannsóknir': 'Science and research',\n",
    "    'Fjarskipti og fjölmiðlar': 'Telecommunications and media',\n",
    "}\n",
    "\n",
    "df_transformed[\"Occupational Field\"] = df_transformed[\"Occupational Field\"].replace(occupation_map)"
   ]
  },
  {
   "cell_type": "code",
   "execution_count": 1557,
   "metadata": {},
   "outputs": [],
   "source": [
    "def map_occupation(value):\n",
    "    return occupation_mapping.get(value, \"Other\")\n",
    "\n",
    "df_transformed['Occupational Field'] = df_transformed['Occupational Field'].apply(map_occupation)\n",
    "df_transformed['Parent Occupational Field'] = df_transformed['Parent Occupational Field'].apply(map_occupation)"
   ]
  },
  {
   "cell_type": "markdown",
   "metadata": {},
   "source": [
    "**Column cleanup - Same Education as Family Member**"
   ]
  },
  {
   "cell_type": "code",
   "execution_count": 1558,
   "metadata": {},
   "outputs": [],
   "source": [
    "df_transformed[\"Same Education as Family Member\"] = df_transformed[\"Same Education as Family Member\"].replace(yes_no_mapping)\n"
   ]
  },
  {
   "cell_type": "markdown",
   "metadata": {},
   "source": [
    "**Column cleanup - Same Occupation as Family Member**"
   ]
  },
  {
   "cell_type": "code",
   "execution_count": 1559,
   "metadata": {},
   "outputs": [],
   "source": [
    "df_transformed[\"Same Occupation as Family Member\"] = df_transformed[\"Same Occupation as Family Member\"].replace(yes_no_mapping)"
   ]
  },
  {
   "cell_type": "markdown",
   "metadata": {},
   "source": [
    "**Column cleanup - Tradition**"
   ]
  },
  {
   "cell_type": "code",
   "execution_count": 1560,
   "metadata": {},
   "outputs": [],
   "source": [
    "df_transformed[\"Tradition\"] = df_transformed[\"Tradition\"].replace(yes_no_mapping)"
   ]
  },
  {
   "cell_type": "markdown",
   "metadata": {},
   "source": [
    "**Column cleanup - Connection**"
   ]
  },
  {
   "cell_type": "code",
   "execution_count": 1561,
   "metadata": {},
   "outputs": [],
   "source": [
    "connection_mapping = {\n",
    "    \"Móðir\": \"Mother\", \"Faðir\": \"Father\", \"Frænka\": \"Aunt\", \"Amma\": \"Grandma\", \n",
    "    \"Stjúp-faðir\": \"Step-Father\", \"Stjúp-móðir\": \"Step-Mother\", \"Afi\": \"Grandpa\", \n",
    "    \"Systir\": \"Sister\", \"Fósturmóðir\": \"Foster-Mother\", \"Fósturfaðir\": \"Foster-Father\", np.nan: \"Unknown\"\n",
    "}\n",
    "df_transformed[\"Connection\"] = df_transformed[\"Connection\"].replace(connection_mapping)"
   ]
  },
  {
   "cell_type": "markdown",
   "metadata": {},
   "source": [
    "**Column cleanup - Influence**"
   ]
  },
  {
   "cell_type": "code",
   "execution_count": 1562,
   "metadata": {},
   "outputs": [],
   "source": [
    "df_transformed[\"Influence\"] = df_transformed[\"Influence\"].replace(yes_no_mapping)"
   ]
  },
  {
   "cell_type": "markdown",
   "metadata": {},
   "source": [
    "## Defining What Degrees belong to the same educationnal group of closeness"
   ]
  },
  {
   "cell_type": "markdown",
   "metadata": {},
   "source": [
    "**Health**\n",
    "- Íþróttaþjálfun - Athletic Training\n",
    "- Tannlækningar - Dentistry\n",
    "- Læknisfræði (MD) - Medicine (MD)\n",
    "- Hjúkrunarfræði - Nursing\n",
    "- Næringarfræði og næringarráðgjöf - Nutrition and Dietetics\n",
    "- Lyfjafræði - Pharmacy\n",
    "- Sjúkraþjálfun - Physical Therapy\n",
    "- Geislafræði - Radiology\n",
    "- Íþróttafræði - Sport Science\n",
    "- Dýralæknisfræði - Veterinary Medicine\n",
    "- Heilbrigðismál - Public Health\n",
    "- Hreyfifræði - Kinesiology\n",
    "\n",
    "\n",
    "**Education**\n",
    "- Leikskóla kennsla - Early Childhood Education\n",
    "- Kennsla - Education\n",
    "- Grunnskóla kennsla - Elementary Education\n",
    "- Framhaldsskóla kennsla - Secondary Education \n",
    "- Sérkennsla - Special Education\n",
    "- Menntastjórnun - Education Management\n",
    "\n",
    "**Social sciences**\n",
    "- Mannfræði - Anthropology\n",
    "- Fornleifafræði - Archaeology\n",
    "- Afbrotafræði - Criminology\n",
    "- Refsiréttur - Criminal Justice\n",
    "- Félagsfræði - Sociology\n",
    "- Stjórnmálafræði - Political Science\n",
    "- Public Administration\n",
    "- Félagsráðgjöf - Social Work\n",
    "- Þjóðfræði - Ethnology\n",
    "- Sálfræði - Psychology\n",
    "- Opinber stjórnsýsla - Public Administration\n",
    "- Alþjóðasamskipti - International Relations\n",
    "- Borgarskipulag - Urban Planning\n",
    "- Ferðamálafræði - Tourism Studies\n",
    "- Landafræði - Geography\n",
    "\n",
    "**Arts and humanities**\n",
    "- Grafísk hönnun - Graphic Design\n",
    "- Frammistöðulistir (leikhús, dans o.s.frv.) - Performing Arts (Theater, Dance, etc.)\n",
    "- Guðfræði & trúarbragðafræði - Theology & Religious Studies\n",
    "- Trúarbragðafræði - Religious Studies\n",
    "- Tónlist - Music\n",
    "- Kvikmyndafræði - Film Studies\n",
    "- Heimspeki - Philosophy\n",
    "- Saga - History\n",
    "- Tungumál og bókmenntir - Languages and Literature\n",
    "- Bókmenntafræði - Library Studies\n",
    "- List og hönnun - Art and Design\n",
    "- Miðlun og samskipti - Media and communication\n",
    "\n",
    "\n",
    "**Business and Economics**\n",
    "- Bókhald - Accounting\n",
    "- Viðskiptafræði - Business\n",
    "- Viðskiptastjórnun - Business Administration\n",
    "- Fyrirtækjafjármál - Corporate Finance\n",
    "- Hagfræði - Economics\n",
    "- Viðburðastjórnun - Event Management\n",
    "- Fjármál - Finance\n",
    "- Alþjóðaviðskipti - International Business\n",
    "- Markaðsfræði - Marketing\n",
    "- Mannauðsstjórnun - Human Resource Management\n",
    "- Frumkvöðlafræði - Entrepreneurship\n",
    "- Alþjóðaréttur - International Law\n",
    "- Íþróttastjórnun - Sports Management\n",
    "- Lögfræði - Law\n",
    "\n",
    "\n",
    "**Natural sciences**\n",
    "- Lífefnafræði - Biochemistry\n",
    "- Líffræði - Biology\n",
    "- Efnafræði - Chemistry\n",
    "- Jarðvísindi (jarðfræði, veðurfræði, ofl.) - Earth Science (Geology, Meteorology, etc.)\n",
    "- Eðlisfræði - Physics\n",
    "- Lífeindafræði - Microbiology\n",
    "- Sameindalíffræði - Molecular Biology \n",
    "- Stjörnufræði - Astronomy\n",
    "- Stærðfræði - Mathematics\n",
    "- Umhverfisfræði - Environmental Science\n",
    "- Skógarbúskapur - Forestry\n",
    "- Landbúnaðarfræði - Agriculture\n",
    "\n",
    "**Engineering**\n",
    "- Flugverkfræði - Aerospace Engineering\n",
    "- Byggingarverkfræði - Civil Engineering\n",
    "- Rafmagnsverkfræði - Electrical Engineering\n",
    "- Verkfræði - Engineering\n",
    "- Verkfræðistjórnun - Engineering Management\n",
    "- Vélaverkfræði - Mechanical Engineering\n",
    "- Mekatróníkverkfræði - Mechatronics Engineerin\n",
    "- Iðnfræði - Industrial Engineering\n",
    "- Fjármálaverkfræði - Financial Engineering\n",
    "- Arkitektúr - Architecture\n",
    "- Tæknifræði - Applied Engineering\n",
    "\n",
    "**Technology** \n",
    "- Vélmennafræði (Robotics) - Robotics\n",
    "- Iðnaðarlíftækni - Industrial Biotechnology\n",
    "- Upplýsingatækni - Information Technology\n",
    "- Tölvunarfræði - Computer Science\n",
    "- Hugbúnaðarverkfræði - Software Engineering\n",
    "\n",
    "\n"
   ]
  },
  {
   "cell_type": "code",
   "execution_count": 1563,
   "metadata": {},
   "outputs": [],
   "source": [
    "# Define the field-to-group mapping\n",
    "field_to_group = {\n",
    "    # Health group\n",
    "    \"Íþróttaþjálfun\": \"Health\",\n",
    "    \"Tannlækningar\": \"Health\",\n",
    "    \"Læknisfræði (MD)\": \"Health\",\n",
    "    \"Hjúkrunarfræði\": \"Health\",\n",
    "    \"Næringarfræði og næringarráðgjöf\": \"Health\",\n",
    "    \"Lyfjafræði\": \"Health\",\n",
    "    \"Sjúkraþjálfun\": \"Health\",\n",
    "    \"Geislafræði\": \"Health\",\n",
    "    \"Íþróttafræði\": \"Health\",\n",
    "    \"Dýralæknisfræði\": \"Health\",\n",
    "    \"Heilbrigðismál\": \"Health\",\n",
    "    \"Hreyfifræði\": \"Health\",\n",
    "    \n",
    "    # Education group\n",
    "    \"Leikskóla kennsla\": \"Education\",\n",
    "    \"Kennsla\": \"Education\",\n",
    "    \"Grunnskóla kennsla\": \"Education\",\n",
    "    \"Framhaldsskóla kennsla\": \"Education\",\n",
    "    \"Sérkennsla\": \"Education\",\n",
    "    \"Menntastjórnun\": \"Education\",\n",
    "    \n",
    "    # Social science group\n",
    "    \"Mannfræði\": \"Social sciences\",\n",
    "    \"Fornleifafræði\": \"Social sciences\",\n",
    "    \"Afbrotafræði\": \"Social sciences\",\n",
    "    \"Refsiréttur\": \"Social sciences\",\n",
    "    \"Félagsfræði\": \"Social sciences\",\n",
    "    \"Stjórnmálafræði\": \"Social sciences\",\n",
    "\n",
    "    \"Félagsráðgjöf\": \"Social sciences\",\n",
    "    \"Þjóðfræði\": \"Social sciences\",\n",
    "    \"Sálfræði\": \"Social sciences\",\n",
    "    \"Opinber stjórnsýsla\": \"Social sciences\",\n",
    "    \"Alþjóðasamskipti\": \"Social sciences\",\n",
    "    \"Borgarskipulag\": \"Social sciences\",\n",
    "    \"Ferðamálafræði\": \"Social sciences\",\n",
    "    \"Landafræði\": \"Social sciences\",\n",
    "    \n",
    "    # Arts and humanities group\n",
    "    \"Grafísk hönnun\": \"Arts and humanities\",\n",
    "    \"Frammistöðulistir (leikhús, dans o.s.frv.)\": \"Arts and humanities\",\n",
    "    \"Guðfræði & trúarbragðafræði\": \"Arts and humanities\",\n",
    "    \"Trúarbragðafræði\": \"Arts and humanities\",\n",
    "    \"Tónlist\": \"Arts and humanities\",\n",
    "    \"Kvikmyndafræði\": \"Arts and humanities\",\n",
    "    \"Heimspeki\": \"Arts and humanities\",\n",
    "    \"Saga\": \"Arts and humanities\",\n",
    "    \"Tungumál og bókmenntir\": \"Arts and humanities\",\n",
    "    \"Bókmenntafræði\": \"Arts and humanities\",\n",
    "    \"List og hönnun\": \"Arts and humanities\",\n",
    "    \"Miðlun og samskipti\": \"Arts and humanities\",\n",
    "    \n",
    "    # Business and Economics group\n",
    "    \"Bókhald\": \"Business and economics\",\n",
    "    \"Viðskiptafræði\": \"Business and economics\",\n",
    "    \"Viðskiptastjórnun\": \"Business and economics\",\n",
    "    \"Fyrirtækjafjármál\": \"Business and economics\",\n",
    "    \"Hagfræði\": \"Business and economics\",\n",
    "    \"Viðburðastjórnun\": \"Business and economics\",\n",
    "    \"Fjármál\": \"Business and economics\",\n",
    "    \"Alþjóðaviðskipti\": \"Business and economics\",\n",
    "    \"Markaðsfræði\": \"Business and economics\",\n",
    "    \"Mannauðsstjórnun\": \"Business and economics\",\n",
    "    \"Frumkvöðlafræði\": \"Business and economics\",\n",
    "    \"Alþjóðaréttur\": \"Business and economics\",\n",
    "    \"Íþróttastjórnun\": \"Business and economics\",\n",
    "    \"Lögfræði\": \"Business and economics\",\n",
    "    \n",
    "    # Natural sciences group\n",
    "    \"Lífefnafræði\": \"Natural sciences\",\n",
    "    \"Líffræði\": \"Natural sciences\",\n",
    "    \"Efnafræði\": \"Natural sciences\",\n",
    "    \"Jarðvísindi (jarðfræði, veðurfræði, ofl.)\": \"Natural sciences\",\n",
    "    \"Eðlisfræði\": \"Natural sciences\",\n",
    "    \"Lífeindafræði\": \"Natural sciences\",\n",
    "    \"Sameindalíffræði\": \"Natural sciences\",\n",
    "    \"Stjörnufræði\": \"Natural sciences\",\n",
    "    \"Stærðfræði\": \"Natural sciences\",\n",
    "    \"Umhverfisfræði\": \"Natural sciences\",\n",
    "    \"Skógarbúskapur\": \"Natural sciences\",\n",
    "    \"Landbúnaðarfræði\": \"Natural sciences\",\n",
    "\n",
    "    # Engineering group\n",
    "    \"Flugverkfræði\": \"Engineering\",\n",
    "    \"Byggingarverkfræði\": \"Engineering\",\n",
    "    \"Rafmagnsverkfræði\": \"Engineering\",\n",
    "    \"Verkfræði\": \"Engineering\",\n",
    "    \"Verkfræðistjórnun\": \"Engineering\",\n",
    "    \"Vélaverkfræði\": \"Engineering\",\n",
    "    \"Mekatróníkverkfræði\": \"Engineering\",\n",
    "    \"Iðnaðarlíftækni\": \"Engineering\",\n",
    "    \"Fjármálaverkfræði\": \"Engineering\",\n",
    "    \"Arkitektúr\": \"Engineering\",\n",
    "    \"Tæknifræði\": \"Engineering\",\n",
    "\n",
    "    # Technology group\n",
    "    \"Upplýsingatækni\": \"Technology\",\n",
    "    \"Hugbúnaðarverkfræði\": \"Technology\",\n",
    "    \"Vélmennafræði (Robotics)\": \"Technology\",\n",
    "    \"Iðnfræði\": \"Technology\",\n",
    "    \"Tölvunarfræði\": \"Technology\",\n",
    "    \n",
    "    \n",
    "    # Other group\n",
    "    \"Other\": \"Other\"\n",
    "}\n",
    "\n",
    "# Map the fields to the corresponding group\n",
    "df_transformed[\"Education Group\"] = df_transformed[\"Education Field\"].map(field_to_group)\n",
    "df_transformed[\"Parent Education Group\"] = df_transformed[\"Parent Education Field\"].map(field_to_group)\n"
   ]
  },
  {
   "cell_type": "markdown",
   "metadata": {},
   "source": [
    "### Handling NaN values"
   ]
  },
  {
   "cell_type": "code",
   "execution_count": 1564,
   "metadata": {},
   "outputs": [
    {
     "name": "stdout",
     "output_type": "stream",
     "text": [
      "id                                    0\n",
      "Gender                                0\n",
      "Year of Birth                         8\n",
      "Education Level                       0\n",
      "Student                               0\n",
      "Current Degree                        0\n",
      "Education Field                       0\n",
      "Occupational Field                    0\n",
      "Number of Siblings                   20\n",
      "Number of Parents                     0\n",
      "Same Education as Family Member       0\n",
      "Family Members w Same Education     502\n",
      "Same Occupation as Family Member      0\n",
      "Family Members w Same Occupation    475\n",
      "Tradition                             0\n",
      "Comments                            558\n",
      "Language                              0\n",
      "Connection                            0\n",
      "Parent Gender                         0\n",
      "Parent Education Level                3\n",
      "Parent Education Field                0\n",
      "Parent Occupational Field             0\n",
      "Influence                             0\n",
      "Age                                   8\n",
      "Education Group                       0\n",
      "Parent Education Group                0\n",
      "dtype: int64\n"
     ]
    }
   ],
   "source": [
    "print(df_transformed.isnull().sum())"
   ]
  },
  {
   "cell_type": "code",
   "execution_count": 1565,
   "metadata": {},
   "outputs": [],
   "source": [
    "df_transformed[\"Number of Siblings\"].fillna(df_transformed[\"Number of Siblings\"].mean(), inplace=True) \n",
    "df_transformed[\"Family Members w Same Education\"].fillna('', inplace=True) \n",
    "df_transformed[\"Family Members w Same Occupation\"].fillna('', inplace=True) \n",
    "df_transformed[\"Comments\"].fillna('', inplace=True) \n",
    "df_transformed[\"Parent Education Level\"].fillna('Unknown', inplace=True)\n",
    "df_transformed[\"Age\"].fillna(df_transformed[\"Age\"].mean(), inplace=True) "
   ]
  },
  {
   "cell_type": "markdown",
   "metadata": {},
   "source": [
    "## Adding Label"
   ]
  },
  {
   "cell_type": "code",
   "execution_count": 1568,
   "metadata": {},
   "outputs": [],
   "source": [
    "labelling = df_transformed.copy()\n",
    "labelling.columns = labelling.columns.str.replace(' ', '')"
   ]
  },
  {
   "cell_type": "code",
   "execution_count": 1569,
   "metadata": {},
   "outputs": [],
   "source": [
    "labelling = labelling[(labelling['Gender'] == 'Woman') | (labelling['Gender'] == 'Man')]\n",
    "\n",
    "labelling['FemaleParentEducationLevel'] = labelling.apply(lambda row: row['ParentEducationLevel'] if row['ParentGender'] == 'Woman' else None, axis=1)\n",
    "labelling['MaleParentEducationLevel'] = labelling.apply(lambda row: row['ParentEducationLevel'] if row['ParentGender'] == 'Man' else None, axis=1)\n",
    "labelling['FemaleParentEducationGroup'] = labelling.apply(lambda row: row['ParentEducationGroup'] if row['ParentGender'] == 'Woman' else None, axis=1)\n",
    "labelling['MaleParentEducationGroup'] = labelling.apply(lambda row: row['ParentEducationGroup'] if row['ParentGender'] == 'Man' else None, axis=1)\n",
    "\n",
    "\n",
    "# TESTING\n",
    "labelling['FemaleParentInfluence'] = labelling.apply(lambda row: row['Influence'] if row['ParentGender'] == 'Woman' else None, axis=1)\n",
    "labelling['MaleParentInfluence'] = labelling.apply(lambda row: row['Influence'] if row['ParentGender'] == 'Man' else None, axis=1)"
   ]
  },
  {
   "cell_type": "code",
   "execution_count": 1570,
   "metadata": {},
   "outputs": [
    {
     "data": {
      "text/plain": [
       "2.0    624\n",
       "3.0     60\n",
       "4.0     36\n",
       "1.0     23\n",
       "Name: NumberofParents, dtype: int64"
      ]
     },
     "execution_count": 1570,
     "metadata": {},
     "output_type": "execute_result"
    }
   ],
   "source": [
    "labelling['NumberofParents'].value_counts()"
   ]
  },
  {
   "cell_type": "markdown",
   "metadata": {},
   "source": [
    "**Logic when selecting the male and female parents that represent a person**\n",
    "\n",
    "- If person has 1 female parent -> That parents education becomes FemaleParentEducationGroup and FemaleParentEducationLevel\n",
    "- If person has 1 male parent -> That parents education becomes MaleParentEducationGroup and MaleParentEducationLevel\n",
    "\n",
    "- If person has more than 1 female parent \n",
    "\n",
    "    - Check if any of those parents has the same education group as the participant\n",
    "\n",
    "        - If yes -> that parents education group becomes FemaleParentEducationGroup\n",
    "\n",
    "        - If no -> choose parent with higher education level to represent FemaleParentEducationGroup, if they have the same education level -> choose the first one\n",
    "\n",
    "- If person has more than 1 male parent \n",
    "\n",
    "    - Check if any of those parents has the same education group as the participant#       \n",
    "\n",
    "        - If yes -> that parents education group becomes MaleParentEducationGroup\n",
    "\n",
    "        - If no -> choose parent with higher education level to represent MaleParentEducationGroup, if they have the same education level -> choose the first one\n"
   ]
  },
  {
   "cell_type": "code",
   "execution_count": 1571,
   "metadata": {},
   "outputs": [],
   "source": [
    "\n",
    "def select_parent_education(df, group_col, level_col, influ_col, participant_edu_col):\n",
    "    if len(df) == 1:\n",
    "        return df.iloc[0][group_col], df.iloc[0][level_col], df.iloc[0][influ_col]\n",
    "    \n",
    "    participant_edu = df[participant_edu_col].iloc[0]\n",
    "    same_group_match = df[df[group_col] == participant_edu]\n",
    "    \n",
    "    if not same_group_match.empty:\n",
    "        return same_group_match.iloc[0][group_col], same_group_match.iloc[0][level_col], same_group_match.iloc[0][influ_col]\n",
    "    \n",
    "    return df.sort_values(by=level_col, ascending=False).iloc[0][[group_col, level_col, influ_col]].values\n",
    "\n",
    "def process_parent_education(df):\n",
    "    result = []\n",
    "    cols = {\n",
    "        \"FemaleParentEducationGroup\", \"FemaleParentEducationLevel\", \"MaleParentEducationGroup\", \"MaleParentEducationLevel\", \n",
    "        \"FemaleParentInfluence\", \"MaleParentInfluence\",\n",
    "        }\n",
    "    extra_columns = [col for col in df.columns if col not in cols]\n",
    "    \n",
    "    for person_id, group in df.groupby(\"id\"):\n",
    "        female_parents = group.dropna(subset=[\"FemaleParentEducationGroup\"])\n",
    "        male_parents = group.dropna(subset=[\"MaleParentEducationGroup\"])\n",
    "        \n",
    "        female_group, female_level, female_influ = (None, None, None)\n",
    "        male_group, male_level, male_influ = (None, None, None)\n",
    "        \n",
    "        if not female_parents.empty:\n",
    "            female_group, female_level, female_influ = select_parent_education(\n",
    "                female_parents, \"FemaleParentEducationGroup\", \"FemaleParentEducationLevel\", \"FemaleParentInfluence\", \"EducationGroup\"\n",
    "            )\n",
    "        \n",
    "        if not male_parents.empty:\n",
    "            male_group, male_level, male_influ = select_parent_education(\n",
    "                male_parents, \"MaleParentEducationGroup\", \"MaleParentEducationLevel\", \"MaleParentInfluence\", \"EducationGroup\"\n",
    "            )\n",
    "        \n",
    "        extra_data = group.iloc[0][extra_columns].to_dict()\n",
    "        \n",
    "        result.append({\n",
    "            \"id\": person_id,\n",
    "            **extra_data,\n",
    "            \"FemaleParentEducationGroup\": female_group,\n",
    "            \"FemaleParentEducationLevel\": female_level,\n",
    "            \"MaleParentEducationGroup\": male_group,\n",
    "            \"MaleParentEducationLevel\": male_level,\n",
    "            \"FemaleParentInfluence\": female_influ,\n",
    "            \"MaleParentInfluence\": male_influ,\n",
    "        })\n",
    "    \n",
    "    return pd.DataFrame(result)"
   ]
  },
  {
   "cell_type": "code",
   "execution_count": 1572,
   "metadata": {},
   "outputs": [],
   "source": [
    "labelling = labelling[[\n",
    "    'id', 'Gender', 'Age', 'EducationLevel', 'EducationGroup', \n",
    "    'Student',\n",
    "    'NumberofSiblings', 'NumberofParents',\n",
    "    'FemaleParentEducationLevel','MaleParentEducationLevel', \n",
    "    'FemaleParentEducationGroup','MaleParentEducationGroup',\n",
    "    'FemaleParentInfluence', 'MaleParentInfluence'\n",
    "    ]].copy()"
   ]
  },
  {
   "cell_type": "code",
   "execution_count": 1573,
   "metadata": {},
   "outputs": [],
   "source": [
    "processed_labelling = process_parent_education(labelling)"
   ]
  },
  {
   "cell_type": "code",
   "execution_count": 1574,
   "metadata": {},
   "outputs": [],
   "source": [
    "def assign_label(row):\n",
    "    if (row[\"EducationGroup\"] == row[\"FemaleParentEducationGroup\"]) & (row[\"EducationGroup\"] != row[\"MaleParentEducationGroup\"]):\n",
    "        return 1\n",
    "    elif (row[\"EducationGroup\"] == row[\"MaleParentEducationGroup\"]) & (row[\"EducationGroup\"] != row[\"FemaleParentEducationGroup\"]):\n",
    "        return 2\n",
    "    elif (row[\"EducationGroup\"] == row[\"FemaleParentEducationGroup\"]) & (row[\"EducationGroup\"] == row[\"MaleParentEducationGroup\"]):\n",
    "        return 3\n",
    "    else:\n",
    "        return 0 \n",
    "\n",
    "processed_labelling[\"Label\"] = processed_labelling.apply(assign_label, axis=1)"
   ]
  },
  {
   "cell_type": "markdown",
   "metadata": {},
   "source": [
    "**Removing those with the eudcation groups Education and Natural sciences**"
   ]
  },
  {
   "cell_type": "code",
   "execution_count": 1575,
   "metadata": {},
   "outputs": [],
   "source": [
    "processed_labelling = processed_labelling[(processed_labelling['EducationGroup']!= 'Education') & (processed_labelling['EducationGroup']!= 'Natural sciences')].copy()"
   ]
  },
  {
   "cell_type": "code",
   "execution_count": null,
   "metadata": {},
   "outputs": [],
   "source": [
    "processed_labelling.to_pickle(\"processed_data.pkl\")"
   ]
  }
 ],
 "metadata": {
  "kernelspec": {
   "display_name": "base",
   "language": "python",
   "name": "python3"
  },
  "language_info": {
   "codemirror_mode": {
    "name": "ipython",
    "version": 3
   },
   "file_extension": ".py",
   "mimetype": "text/x-python",
   "name": "python",
   "nbconvert_exporter": "python",
   "pygments_lexer": "ipython3",
   "version": "3.9.13"
  }
 },
 "nbformat": 4,
 "nbformat_minor": 2
}
